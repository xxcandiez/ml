{
 "cells": [
  {
   "cell_type": "markdown",
   "metadata": {},
   "source": [
    "# Neural Network"
   ]
  },
  {
   "cell_type": "code",
   "execution_count": 3,
   "metadata": {},
   "outputs": [],
   "source": [
    "%matplotlib inline\n",
    "import numpy as np\n",
    "import numpy.random as ran\n",
    "_raw = np.genfromtxt('monks-1.csv', delimiter=\",\")\n",
    "SIGMA = lambda x: 1/(1 + np.exp(-x))\n",
    "SIGMA = np.vectorize(SIGMA)\n",
    "\n",
    "def preprocess():\n",
    "    M = _raw.shape[0]\n",
    "    ONES = np.ones(M).reshape(M, 1)\n",
    "    X = np.concatenate((ONES, _raw[:, 1:7]), 1)\n",
    "    N = X.shape[1]\n",
    "    Y = _raw[:, 0].reshape(M, 1)\n",
    "    return X, Y, M, N,ONES\n",
    "\n",
    "X, Y, M, N, ONES = preprocess()"
   ]
  },
  {
   "cell_type": "code",
   "execution_count": 6,
   "metadata": {},
   "outputs": [],
   "source": [
    "def fp(A: list, THETA: list, detailed=False) -> list:\n",
    "    for i, Q in enumerate(A):\n",
    "        first, last = i == 0, i == len(A) - 1\n",
    "        if not first:\n",
    "            A[i] = SIGMA(A[i-1] @ THETA[i-1])\n",
    "        if (not first) and (not last):\n",
    "            A[i] = np.concatenate((ONES, A[i]), 1)\n",
    "    return A if detailed else A[2]\n",
    "\n",
    "def delta(X, Y, THETA):\n",
    "    return X.T @ (SIGMA(X @ THETA) - Y)\n",
    "\n",
    "def guess(X, THETA):\n",
    "    return np.concatente((ONES, SIGMA(X @ THETA)), 1)\n",
    "\n",
    "def bp(A: list, THETA: list) -> list:\n",
    "    # output layer\n",
    "    outer_delta = delta(A[1], Y, THETA[1])\n",
    "    A[2]\n",
    "    return None\n",
    "\n",
    "def bp(THETA: list) -> list:\n",
    "    return None"
   ]
  },
  {
   "cell_type": "code",
   "execution_count": 7,
   "metadata": {},
   "outputs": [
    {
     "ename": "ValueError",
     "evalue": "operands could not be broadcast together with shapes (7,6) (7,7) ",
     "output_type": "error",
     "traceback": [
      "\u001b[1;31m---------------------------------------------------------------------------\u001b[0m",
      "\u001b[1;31mValueError\u001b[0m                                Traceback (most recent call last)",
      "\u001b[1;32m<ipython-input-7-35e7496d42aa>\u001b[0m in \u001b[0;36m<module>\u001b[1;34m()\u001b[0m\n\u001b[0;32m     18\u001b[0m     \u001b[0mprint\u001b[0m\u001b[1;33m(\u001b[0m\u001b[0mTHETA\u001b[0m\u001b[1;33m)\u001b[0m\u001b[1;33m\u001b[0m\u001b[0m\n\u001b[0;32m     19\u001b[0m \u001b[1;33m\u001b[0m\u001b[0m\n\u001b[1;32m---> 20\u001b[1;33m \u001b[0mrun\u001b[0m\u001b[1;33m(\u001b[0m\u001b[0mA\u001b[0m\u001b[1;33m,\u001b[0m \u001b[0mTHETA\u001b[0m\u001b[1;33m)\u001b[0m\u001b[1;33m\u001b[0m\u001b[0m\n\u001b[0m",
      "\u001b[1;32m<ipython-input-7-35e7496d42aa>\u001b[0m in \u001b[0;36mrun\u001b[1;34m(A, THETA)\u001b[0m\n\u001b[0;32m     15\u001b[0m     \u001b[1;32mfor\u001b[0m \u001b[0mi\u001b[0m \u001b[1;32min\u001b[0m \u001b[0mrange\u001b[0m\u001b[1;33m(\u001b[0m\u001b[0mITERATIONS\u001b[0m\u001b[1;33m)\u001b[0m\u001b[1;33m:\u001b[0m\u001b[1;33m\u001b[0m\u001b[0m\n\u001b[0;32m     16\u001b[0m         \u001b[0mA\u001b[0m \u001b[1;33m=\u001b[0m \u001b[0mfp\u001b[0m\u001b[1;33m(\u001b[0m\u001b[0mA\u001b[0m\u001b[1;33m,\u001b[0m \u001b[0mTHETA\u001b[0m\u001b[1;33m,\u001b[0m \u001b[0mdetailed\u001b[0m\u001b[1;33m=\u001b[0m\u001b[1;32mTrue\u001b[0m\u001b[1;33m)\u001b[0m\u001b[1;33m\u001b[0m\u001b[0m\n\u001b[1;32m---> 17\u001b[1;33m         \u001b[0mTHETA\u001b[0m \u001b[1;33m=\u001b[0m \u001b[0mbp\u001b[0m\u001b[1;33m(\u001b[0m\u001b[0mA\u001b[0m\u001b[1;33m,\u001b[0m \u001b[0mTHETA\u001b[0m\u001b[1;33m)\u001b[0m\u001b[1;33m\u001b[0m\u001b[0m\n\u001b[0m\u001b[0;32m     18\u001b[0m     \u001b[0mprint\u001b[0m\u001b[1;33m(\u001b[0m\u001b[0mTHETA\u001b[0m\u001b[1;33m)\u001b[0m\u001b[1;33m\u001b[0m\u001b[0m\n\u001b[0;32m     19\u001b[0m \u001b[1;33m\u001b[0m\u001b[0m\n",
      "\u001b[1;32m<ipython-input-6-5a01b26ec1aa>\u001b[0m in \u001b[0;36mbp\u001b[1;34m(A, THETA)\u001b[0m\n\u001b[0;32m     18\u001b[0m \u001b[1;33m\u001b[0m\u001b[0m\n\u001b[0;32m     19\u001b[0m     \u001b[1;32mfor\u001b[0m \u001b[0mi\u001b[0m \u001b[1;32min\u001b[0m \u001b[0mrange\u001b[0m\u001b[1;33m(\u001b[0m\u001b[0mlen\u001b[0m\u001b[1;33m(\u001b[0m\u001b[0mDELTA\u001b[0m\u001b[1;33m)\u001b[0m\u001b[1;33m)\u001b[0m\u001b[1;33m:\u001b[0m\u001b[1;33m\u001b[0m\u001b[0m\n\u001b[1;32m---> 20\u001b[1;33m         \u001b[0mTHETA\u001b[0m\u001b[1;33m[\u001b[0m\u001b[0mi\u001b[0m\u001b[1;33m]\u001b[0m \u001b[1;33m=\u001b[0m \u001b[0mTHETA\u001b[0m\u001b[1;33m[\u001b[0m\u001b[0mi\u001b[0m\u001b[1;33m]\u001b[0m \u001b[1;33m+\u001b[0m \u001b[0mDELTA\u001b[0m\u001b[1;33m[\u001b[0m\u001b[0mi\u001b[0m\u001b[1;33m]\u001b[0m\u001b[1;33m\u001b[0m\u001b[0m\n\u001b[0m\u001b[0;32m     21\u001b[0m     \u001b[1;32mreturn\u001b[0m \u001b[0mTHETA\u001b[0m\u001b[1;33m\u001b[0m\u001b[0m\n",
      "\u001b[1;31mValueError\u001b[0m: operands could not be broadcast together with shapes (7,6) (7,7) "
     ]
    }
   ],
   "source": [
    "SEED = 42\n",
    "ITERATIONS = 100\n",
    "K = 1/M\n",
    "ALPHA = 0.001\n",
    "err = np.vectorize(lambda *args: ran.normal(0.1, 0.1))\n",
    "\n",
    "A1, A2, A3 = np.zeros(M * N).reshape(M, N), np.zeros(M * N).reshape(M, N), np.zeros(M).reshape(M, 1)\n",
    "A = [A1, A2, A3]\n",
    "\n",
    "T1, T2 = np.zeros(N * (N-1)).reshape(N, N-1), np.zeros(N).reshape(N, 1)\n",
    "T1, T2 = err(T1), err(T2)\n",
    "THETA = [T1, T2]\n",
    "\n",
    "def run(A, THETA):\n",
    "    for i in range(ITERATIONS):\n",
    "        A = fp(A, THETA, detailed=True)\n",
    "        THETA = bp(A, THETA)\n",
    "    print(THETA)\n",
    "\n",
    "run(A, THETA)"
   ]
  }
 ],
 "metadata": {
  "kernelspec": {
   "display_name": "Python 3",
   "language": "python",
   "name": "python3"
  },
  "language_info": {
   "codemirror_mode": {
    "name": "ipython",
    "version": 3
   },
   "file_extension": ".py",
   "mimetype": "text/x-python",
   "name": "python",
   "nbconvert_exporter": "python",
   "pygments_lexer": "ipython3",
   "version": "3.6.4"
  }
 },
 "nbformat": 4,
 "nbformat_minor": 2
}
