{
 "cells": [
  {
   "cell_type": "code",
   "execution_count": 10,
   "metadata": {
    "scrolled": true
   },
   "outputs": [
    {
     "data": {
      "image/png": "[encoded data removed]",
      "text/plain": [
       "<matplotlib.figure.Figure at 0x2140e7c8908>"
      ]
     },
     "metadata": {},
     "output_type": "display_data"
    }
   ],
   "source": [
    "%matplotlib inline\n",
    "import numpy as np\n",
    "import numpy.random as ran\n",
    "import matplotlib.pyplot as plt\n",
    "SEED = 10\n",
    "ITERATIONS = 100\n",
    "ALPHA = 0.001, 0.01\n",
    "\n",
    "def dataGen() -> list:\n",
    "    res = []\n",
    "    f = lambda x: x**2 + 2\n",
    "    err = lambda *args: ran.normal(0, 18)\n",
    "    for i in range(100):\n",
    "        x = ran.normal(6, 2.5)\n",
    "        res.append([x, f(x) + err()])\n",
    "    return res\n",
    "\n",
    "def descend():\n",
    "    return None\n",
    "\n",
    "if __name__ == '__main__':\n",
    "    ran.seed(SEED)\n",
    "    data = dataGen()\n",
    "    x = [datum[0] for datum in data]\n",
    "    y = [datum[1] for datum in data]\n",
    "    plt.scatter(x, y)\n",
    "    plt.show()\n",
    "    "
   ]
  }
 ],
 "metadata": {
  "kernelspec": {
   "display_name": "Python 3",
   "language": "python",
   "name": "python3"
  },
  "language_info": {
   "codemirror_mode": {
    "name": "ipython",
    "version": 3
   },
   "file_extension": ".py",
   "mimetype": "text/x-python",
   "name": "python",
   "nbconvert_exporter": "python",
   "pygments_lexer": "ipython3",
   "version": "3.6.4"
  }
 },
 "nbformat": 4,
 "nbformat_minor": 2
}
