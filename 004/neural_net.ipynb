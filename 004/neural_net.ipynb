{
 "cells": [
  {
   "cell_type": "markdown",
   "metadata": {},
   "source": [
    "# Neural Network"
   ]
  },
  {
   "cell_type": "markdown",
   "metadata": {},
   "source": [
    "### Table of Contents\n",
    "[Conventions](#conventions)"
   ]
  },
  {
   "cell_type": "code",
   "execution_count": 5,
   "metadata": {},
   "outputs": [],
   "source": [
    "%matplotlib inline\n",
    "import numpy as np\n",
    "_raw = np.genfromtxt('monks-1.csv', delimiter=\",\")\n",
    "\n",
    "def()"
   ]
  },
  {
   "cell_type": "code",
   "execution_count": 6,
   "metadata": {},
   "outputs": [
    {
     "name": "stdout",
     "output_type": "stream",
     "text": [
      "[[ 1.  1.  1. ...  1.  1. nan]\n",
      " [ 1.  1.  1. ...  1.  2. nan]\n",
      " [ 1.  1.  1. ...  2.  1. nan]\n",
      " ...\n",
      " [ 1.  3.  3. ...  3.  2. nan]\n",
      " [ 1.  3.  3. ...  4.  1. nan]\n",
      " [ 1.  3.  3. ...  4.  2. nan]]\n"
     ]
    }
   ],
   "source": [
    "print(_raw)"
   ]
  }
 ],
 "metadata": {
  "kernelspec": {
   "display_name": "Python 3",
   "language": "python",
   "name": "python3"
  },
  "language_info": {
   "codemirror_mode": {
    "name": "ipython",
    "version": 3
   },
   "file_extension": ".py",
   "mimetype": "text/x-python",
   "name": "python",
   "nbconvert_exporter": "python",
   "pygments_lexer": "ipython3",
   "version": "3.6.4"
  }
 },
 "nbformat": 4,
 "nbformat_minor": 2
}
