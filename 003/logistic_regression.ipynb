{
 "cells": [
  {
   "cell_type": "markdown",
   "metadata": {},
   "source": [
    "# Logistic Regression"
   ]
  },
  {
   "cell_type": "markdown",
   "metadata": {},
   "source": [
    "### Table of Contents\n",
    "[Conventions](#conventions)"
   ]
  },
  {
   "cell_type": "markdown",
   "metadata": {},
   "source": [
    "### Conventions\n",
    "__Number of training examples__: $M$\n",
    "\n",
    "__Number of features__: $N$\n",
    "\n",
    "__Design matrix__: $X$<br>\n",
    "The design matrix $X$ is a matrix $X \\in \\mathbb{R}^{M, N}$ with rows $X[i, :].reshape(1, N) \\in \\mathbb{R}^{1, N}$, and columns $X[:, i].reshape(M, 1) \\in \\mathbb{R}^{M, 1}$\n",
    "\n",
    "__Output Vector__: $Y$<br>\n",
    "The output vector $Y$ is a matrix $Y \\in \\mathbb{R}^{M, 1}$ that our model will be evaluated against \n",
    "\n",
    "__Parameter vector__: $\\theta$<br>\n",
    "The parameter vector $\\theta$ is a matrix $\\theta \\in \\mathbb{R}^{N, 1}$ that parameterizes our hypothesis\n",
    "\n",
    "__Hypothesis__: $H$<br>\n",
    "The hypothesis $H$ is a function $H(\\theta, x): \\mathbb{R}^{N, 1}, \\mathbb{R}^{1, N} \\to \\mathbb{R}$ that models our data\n",
    "\n",
    "__Learning rate__: $\\alpha$\n",
    "\n",
    "__Regularization Constant__: $\\lambda$\n",
    "\n",
    "__Normalizaing Constant__: $K$"
   ]
  },
  {
   "cell_type": "code",
   "execution_count": 2,
   "metadata": {},
   "outputs": [],
   "source": [
    "%matplotlib inline\n",
    "from jupyterthemes import jtplot\n",
    "jtplot.style()\n",
    "import numpy as np\n",
    "import matplotlib.pyplot as plt\n",
    "\n",
    "_raw = np.genfromtxt('monks-1.csv', delimiter=',')\n",
    "_DATA = _raw[:, 0:7]\n",
    "X = _raw[:, 1:7]\n",
    "Y = _raw[:, 0]"
   ]
  },
  {
   "cell_type": "code",
   "execution_count": 3,
   "metadata": {},
   "outputs": [],
   "source": [
    "M = Y.size\n",
    "N = X.shape[1]\n",
    "H = lambda x: (1 / (1 + np.exp(-x @ theta)))\n",
    "K = 1/float(M)"
   ]
  },
  {
   "cell_type": "code",
   "execution_count": 4,
   "metadata": {},
   "outputs": [],
   "source": [
    "def addFeatures(X):\n",
    "    col = lambda i: X[:, i].reshape(M, 1)\n",
    "    sq = lambda x: np.multiply(x, x)\n",
    "    a, b, c = sq(col(0)), sq(col(1)), sq(col(4))\n",
    "    res = np.concatenate((X, a, b, c), 1)\n",
    "    return res\n",
    "X = addFeatures(X)\n",
    "N = X.shape[1]"
   ]
  },
  {
   "cell_type": "code",
   "execution_count": 22,
   "metadata": {},
   "outputs": [],
   "source": [
    "def cost(theta: np.array) -> float:\n",
    "    '''\n",
    "    param: theta, parameter vector\n",
    "    returns: cost that theta incurs on your data\n",
    "    '''\n",
    "    sum = 0\n",
    "    norm = 0\n",
    "    for i in range(N):\n",
    "        norm += LAMBDA * theta[i]**2\n",
    "    \n",
    "    for i in range(M):\n",
    "        x, y = X[i].reshape(1, N), Y[i] # transfer\n",
    "        sum += - (y * np.log(H(x))) - ((1 - y) * np.log(1 - H(x))) + norm\n",
    "    return sum\n",
    "\n",
    "def accuracy(theta: np.array):\n",
    "    correct = 0;\n",
    "    threshold = 0.5\n",
    "    for i in range(M):\n",
    "        x, y = X[i].reshape(1, N), Y[i]\n",
    "        pos, neg = y == 1 and H(x) >= threshold, y == 0 and H(x) < threshold\n",
    "        correct += 1 if pos or neg else 0\n",
    "    return correct/float(M)\n",
    "\n",
    "def distances(theta: np.ndarray) -> np.ndarray:\n",
    "    '''\n",
    "    param: theta, parameter vector\n",
    "    returns: an array of differences between the model and the actual values\n",
    "    '''\n",
    "    res = np.zeros(M)\n",
    "    for i in range(M):\n",
    "        x, y = X[i].reshape(1, N), Y[i] # transfer\n",
    "        res[i] = H(x) - y\n",
    "    return res.reshape(M, 1)\n",
    "\n",
    "def descend(theta):\n",
    "    inf = X.T @ distances(theta) + 2 * LAMBDA * theta\n",
    "    inf = -ALPHA * K * inf\n",
    "    return theta + inf"
   ]
  },
  {
   "cell_type": "code",
   "execution_count": 42,
   "metadata": {
    "scrolled": true
   },
   "outputs": [
    {
     "name": "stdout",
     "output_type": "stream",
     "text": [
      "cost [[899.33353176]] accuracy 0.6736111111111112 theta \n",
      "[[ 0.39889011]\n",
      " [ 0.39889011]\n",
      " [ 0.27160235]\n",
      " [ 0.15112837]\n",
      " [-0.99464054]\n",
      " [ 0.27160235]\n",
      " [-0.07425607]\n",
      " [-0.07425607]\n",
      " [ 0.05608604]]\n"
     ]
    }
   ],
   "source": [
    "theta = np.zeros(X.shape[1]).reshape(N, 1)\n",
    "ITERATIONS = 1000\n",
    "ALPHA = 0.05\n",
    "LAMBDA = 1.2\n",
    "for i in range(ITERATIONS):\n",
    "    theta = descend(theta)\n",
    "print(f'cost {cost(theta)} accuracy {accuracy(theta)} theta \\n{theta}')"
   ]
  }
 ],
 "metadata": {
  "kernelspec": {
   "display_name": "Python 3",
   "language": "python",
   "name": "python3"
  },
  "language_info": {
   "codemirror_mode": {
    "name": "ipython",
    "version": 3
   },
   "file_extension": ".py",
   "mimetype": "text/x-python",
   "name": "python",
   "nbconvert_exporter": "python",
   "pygments_lexer": "ipython3",
   "version": "3.6.4"
  }
 },
 "nbformat": 4,
 "nbformat_minor": 2
}
