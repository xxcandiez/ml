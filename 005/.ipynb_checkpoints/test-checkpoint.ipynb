{
 "cells": [
  {
   "cell_type": "code",
   "execution_count": 1,
   "metadata": {},
   "outputs": [],
   "source": [
    "import numpy as np"
   ]
  },
  {
   "cell_type": "code",
   "execution_count": 2,
   "metadata": {},
   "outputs": [],
   "source": [
    "_raw = np.genfromtxt('data.csv', delimiter=',')\n",
    "X = _raw[:, 0:3]\n",
    "Y = _raw[:, 3].reshape(2, 1)"
   ]
  },
  {
   "cell_type": "code",
   "execution_count": 3,
   "metadata": {},
   "outputs": [],
   "source": [
    "M = Y.size\n",
    "N = X.shape[1]\n",
    "K = 1/M\n",
    "SIGMA = np.vectorize(lambda x: 1 / (1 + np.exp(-x)))"
   ]
  },
  {
   "cell_type": "markdown",
   "metadata": {},
   "source": [
    "$\\delta_{i} = X^{T}[\\sigma(X\\Theta_{i}) - a_2]$"
   ]
  },
  {
   "cell_type": "code",
   "execution_count": 4,
   "metadata": {},
   "outputs": [],
   "source": [
    "def learn(theta):\n",
    "    delta = X.T @ (SIGMA(X @ theta) - Y)\n",
    "    delta = delta * -K * ALPHA\n",
    "    return theta + delta"
   ]
  },
  {
   "cell_type": "code",
   "execution_count": 8,
   "metadata": {},
   "outputs": [
    {
     "name": "stdout",
     "output_type": "stream",
     "text": [
      "[[ 1.84567998]\n",
      " [-2.24378732]\n",
      " [-2.24378732]]\n"
     ]
    }
   ],
   "source": [
    "theta = np.array([[0, 0, 0]]).T\n",
    "ALPHA = 0.03\n",
    "for i in range(1000):\n",
    "    theta = learn(theta)\n",
    "print(theta)"
   ]
  },
  {
   "cell_type": "code",
   "execution_count": null,
   "metadata": {},
   "outputs": [],
   "source": []
  }
 ],
 "metadata": {
  "kernelspec": {
   "display_name": "Python 3",
   "language": "python",
   "name": "python3"
  },
  "language_info": {
   "codemirror_mode": {
    "name": "ipython",
    "version": 3
   },
   "file_extension": ".py",
   "mimetype": "text/x-python",
   "name": "python",
   "nbconvert_exporter": "python",
   "pygments_lexer": "ipython3",
   "version": "3.6.4"
  }
 },
 "nbformat": 4,
 "nbformat_minor": 2
}
