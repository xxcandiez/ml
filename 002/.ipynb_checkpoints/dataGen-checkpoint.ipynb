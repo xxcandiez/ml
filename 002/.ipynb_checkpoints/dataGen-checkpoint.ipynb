{
 "cells": [
  {
   "cell_type": "code",
   "execution_count": 32,
   "metadata": {},
   "outputs": [],
   "source": [
    "%matplotlib inline\n",
    "import numpy as np\n",
    "import numpy.random as ran\n",
    "import matplotlib.pyplot as plt\n",
    "m = 100\n",
    "SEED = 10\n",
    "ITERATIONS = 100\n",
    "ALPHA = (0.001, 0.01)\n",
    "THETA = (1, 1, 1/2, 2, 1/5)\n",
    "R = ((3, 1), (6, 5/2), (10, 3), (2, 1), (20, 5))\n",
    "DATA = np.genfromtxt('data.txt', delimeter=',')\n",
    "\n",
    "def dataGen(f, err) -> list:\n",
    "    res = [];\n",
    "    for i in range(m):\n",
    "        x = [ran.normal(R[0][0], R[0][1]),\n",
    "             ran.normal(R[1][0], R[1][1]),\n",
    "             ran.normal(R[2][0], R[2][1]),\n",
    "             ran.normal(R[3][0], R[3][1]),\n",
    "             ran.normal(R[4][0], R[4][1])]\n",
    "        y = THETA[0]*f(x[0]) + THETA[1]*f(x[1]) + THETA[2]*f(x[2])+ THETA[3]*f(x[3]) + THETA[4]*f(x[4]) + err()\n",
    "        res.append([x[0], x[1], x[2], x[3], x[4], y])\n",
    "    return res\n",
    "\n",
    "def stringify(lst):\n",
    "    res = str()\n",
    "    for item in lst:\n",
    "        res += f'{item},'\n",
    "    return res.strip(',') + '\\r\\n'\n",
    "\n",
    "if __name__ == '__main__':\n",
    "    ran.seed(SEED)\n",
    "    data = np.array(dataGen(lambda x: x, lambda *args: ran.normal(0, 4)))\n",
    "    with open('data.txt', 'w') as file:\n",
    "        for vector in data:\n",
    "            file.write(stringify(vector))\n",
    "            "
   ]
  }
 ],
 "metadata": {
  "kernelspec": {
   "display_name": "Python 3",
   "language": "python",
   "name": "python3"
  },
  "language_info": {
   "codemirror_mode": {
    "name": "ipython",
    "version": 3
   },
   "file_extension": ".py",
   "mimetype": "text/x-python",
   "name": "python",
   "nbconvert_exporter": "python",
   "pygments_lexer": "ipython3",
   "version": "3.6.4"
  }
 },
 "nbformat": 4,
 "nbformat_minor": 2
}
