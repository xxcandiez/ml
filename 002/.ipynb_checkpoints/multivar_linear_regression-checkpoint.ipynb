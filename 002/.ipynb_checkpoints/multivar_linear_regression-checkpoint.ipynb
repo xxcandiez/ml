{
 "cells": [
  {
   "cell_type": "code",
   "execution_count": 1,
   "metadata": {},
   "outputs": [],
   "source": [
    "%matplotlib inline\n",
    "import numpy as np\n",
    "import numpy.random as ran\n",
    "import matplotlib.pyplot as plt\n",
    "\n",
    "DATA = np.genfromtxt('data.txt', delimiter=',')\n",
    "X = DATA[:, 0:5]\n",
    "Y = DATA[:, 5]\n",
    "NORMALIZE = True\n",
    "\n",
    "SEED = 10\n",
    "ITERATIONS = 1000\n",
    "ALPHA = 0.003\n",
    "THETA = np.array([1, 1, 1/2, 2, 1/5])\n",
    "R = np.array([[3, 1], [6, 5/2], [10, 3], [2, 1], [20, 5]])\n",
    "K = 1/(DATA.shape[0])"
   ]
  },
  {
   "cell_type": "code",
   "execution_count": 5,
   "metadata": {},
   "outputs": [],
   "source": [
    "def invertedMeans(X):\n",
    "    res = []\n",
    "    for i in range(X.shape[1]):\n",
    "        res.append(X.shape[0]/np.sum(X[:, i]))\n",
    "    return np.array(res)\n",
    "\n",
    "def normalized(X):\n",
    "    mInv = invertedMeans(X)\n",
    "    return X * mInv\n",
    "\n",
    "if NORMALIZE:\n",
    "    X = normalized(X)\n",
    "    print(f'means {invertedMeans(X)}')"
   ]
  },
  {
   "cell_type": "code",
   "execution_count": 3,
   "metadata": {},
   "outputs": [],
   "source": [
    "def cost(theta: np.ndarray) -> float:\n",
    "    res = 0i]) ** 2\n",
    "    return res\n",
    "    for i in range(DATA.shape[0]):\n",
    "        res += (np.dot(X[i], theta) - Y[\n",
    "\n",
    "def influence(theta: np.ndarray, index: int) -> float:\n",
    "    inf = 0\n",
    "    for i, vector in enumerate(X):\n",
    "        inf += (np.dot(X[i], theta) - Y[i]) * X[i, index]\n",
    "    return inf\n",
    "\n",
    "def descend(theta: np.ndarray) -> list:\n",
    "    inf = np.zeros(THETA.size)\n",
    "    for i in range(THETA.size):\n",
    "        inf[i] = influence(theta, i)\n",
    "    inf = -K * ALPHA * inf\n",
    "    return np.add(theta, inf)"
   ]
  },
  {
   "cell_type": "code",
   "execution_count": 6,
   "metadata": {
    "scrolled": true
   },
   "outputs": [
    {
     "name": "stdout",
     "output_type": "stream",
     "text": [
      "theta [3.74007251 5.53720747 4.39462409 4.31471887 3.77750615], cost 1167.1011823663332\n"
     ]
    }
   ],
   "source": [
    "theta = np.zeros(5)\n",
    "for i in range(ITERATIONS):\n",
    "    theta = descend(theta)\n",
    "print(f'theta {theta}, cost {cost(theta)}')\n"
   ]
  }
 ],
 "metadata": {
  "kernelspec": {
   "display_name": "Python 3",
   "language": "python",
   "name": "python3"
  },
  "language_info": {
   "codemirror_mode": {
    "name": "ipython",
    "version": 3
   },
   "file_extension": ".py",
   "mimetype": "text/x-python",
   "name": "python",
   "nbconvert_exporter": "python",
   "pygments_lexer": "ipython3",
   "version": "3.6.4"
  }
 },
 "nbformat": 4,
 "nbformat_minor": 2
}
