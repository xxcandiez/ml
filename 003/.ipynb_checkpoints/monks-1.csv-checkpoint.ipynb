{
 "cells": [
  {
   "cell_type": "code",
   "execution_count": 53,
   "metadata": {},
   "outputs": [],
   "source": [
    "DATA = []\n",
    "\n",
    "def monks1(line):\n",
    "    line = line.strip(' ')\n",
    "    line = line.replace(' ', ',')\n",
    "    return line\n",
    "\n",
    "with open('monks-1.test', 'r') as f:\n",
    "    for line in iter(f.readline, ''):\n",
    "        DATA.append(monks1(line))\n",
    "\n",
    "with open('monks-1.csv', 'w') as f:\n",
    "    for datum in DATA:\n",
    "        f.write(datum)"
   ]
  }
 ],
 "metadata": {
  "kernelspec": {
   "display_name": "Python 3",
   "language": "python",
   "name": "python3"
  },
  "language_info": {
   "codemirror_mode": {
    "name": "ipython",
    "version": 3
   },
   "file_extension": ".py",
   "mimetype": "text/x-python",
   "name": "python",
   "nbconvert_exporter": "python",
   "pygments_lexer": "ipython3",
   "version": "3.6.4"
  }
 },
 "nbformat": 4,
 "nbformat_minor": 2
}
