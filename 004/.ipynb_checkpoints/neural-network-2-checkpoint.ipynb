{
 "cells": [
  {
   "cell_type": "code",
   "execution_count": 55,
   "metadata": {},
   "outputs": [],
   "source": [
    "%matplotlib inline\n",
    "import numpy as np"
   ]
  },
  {
   "cell_type": "code",
   "execution_count": 68,
   "metadata": {
    "scrolled": true
   },
   "outputs": [
    {
     "name": "stdout",
     "output_type": "stream",
     "text": [
      "[[[1. 1. 1. ... 1. 1. 1.]]\n",
      "\n",
      " [[1. 1. 1. ... 1. 2. 1.]]\n",
      "\n",
      " [[1. 1. 1. ... 2. 1. 1.]]\n",
      "\n",
      " ...\n",
      "\n",
      " [[3. 3. 2. ... 3. 2. 1.]]\n",
      "\n",
      " [[3. 3. 2. ... 4. 1. 1.]]\n",
      "\n",
      " [[3. 3. 2. ... 4. 2. 1.]]]\n"
     ]
    }
   ],
   "source": [
    "DATA = np.genfromtxt('monks-1.csv', delimiter=',')\n",
    "\n",
    "def preprocess(data):\n",
    "    M = data[:, 0].size\n",
    "    N = data[0, :].size - 1\n",
    "    Y = data[:, 0].reshape(M, 1)\n",
    "    X = data[:, 1:-1].reshape(M, N - 1)\n",
    "    X = np.concatenate([X, np.ones(M).reshape(M, 1)], 1)\n",
    "    return X, Y, M, N\n",
    "\n",
    "X, Y, M, N = preprocess(DATA)\n",
    "X = X.reshape(432, 1, 7)\n",
    "Y = Y.reshape(432, 1, 1)"
   ]
  },
  {
   "cell_type": "markdown",
   "metadata": {},
   "source": [
    "### Architechture\n",
    "s: input $6(+1) \\to$ hidden $(6+1) \\to$ output $1$<br>\n",
    "theta: $f^*:R^{1, 7} \\to R^{1, 6} \\to R^{1, 1}$"
   ]
  },
  {
   "cell_type": "markdown",
   "metadata": {},
   "source": [
    "### Expanded Fp\n",
    "theta: $f^*:R^{432, 7} \\to R^{}$"
   ]
  },
  {
   "cell_type": "code",
   "execution_count": 57,
   "metadata": {},
   "outputs": [],
   "source": [
    "sigmoid = np.vectorize( lambda x: 1 / (1 + np.exp(-x)) )\n",
    "\n",
    "def leftPad(x):\n",
    "    print(x)\n",
    "    print(x.shape)\n",
    "    height = x.shape[0]\n",
    "    padder = np.ones(height).reshape(height, 1)\n",
    "    return np.concatenate((padder, x), 1)\n",
    "\n",
    "def simpleFp(theta, x, verbose=False):\n",
    "    s = list()\n",
    "    # input layer\n",
    "    s.append(leftPad(x @ theta[0]))\n",
    "    # hidden layers\n",
    "    for i in range(1, len(theta) - 1):\n",
    "        print(s[i - 1], '\\n' ,theta[i])\n",
    "        s.append(leftPad(s[i - 1] @ theta[i]))\n",
    "    # output layer\n",
    "    s.append(s[-1] @ theta[-1])\n",
    "    return s[0] if not verbose else s\n",
    "\n",
    "def fp(theta, verbose=False):\n",
    "    s = list()\n",
    "    return None"
   ]
  },
  {
   "cell_type": "code",
   "execution_count": 75,
   "metadata": {},
   "outputs": [
    {
     "name": "stdout",
     "output_type": "stream",
     "text": [
      "1.0\n",
      "1.0\n",
      "1.0\n",
      "1.0\n",
      "1.0\n",
      "1.0\n",
      "1.0\n",
      "1.0\n",
      "[[[None]]\n",
      "\n",
      " [[None]]\n",
      "\n",
      " [[None]]\n",
      "\n",
      " [[None]]\n",
      "\n",
      " [[None]]\n",
      "\n",
      " [[None]]\n",
      "\n",
      " [[None]]]\n"
     ]
    }
   ],
   "source": [
    "sizes = ((6, 7), (1, 7))\n",
    "\n",
    "i, o = sizes[0]\n",
    "theta1 = np.ones(i * o).reshape(o, i)\n",
    "\n",
    "i, o = sizes[1]\n",
    "theta2 = np.ones(i * o).reshape(o, i)\n",
    "\n",
    "theta = [theta1, theta2]"
   ]
  }
 ],
 "metadata": {
  "kernelspec": {
   "display_name": "Python 3",
   "language": "python",
   "name": "python3"
  },
  "language_info": {
   "codemirror_mode": {
    "name": "ipython",
    "version": 3
   },
   "file_extension": ".py",
   "mimetype": "text/x-python",
   "name": "python",
   "nbconvert_exporter": "python",
   "pygments_lexer": "ipython3",
   "version": "3.6.4"
  }
 },
 "nbformat": 4,
 "nbformat_minor": 2
}
