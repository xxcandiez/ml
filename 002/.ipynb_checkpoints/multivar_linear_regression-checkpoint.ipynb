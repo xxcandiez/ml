{
 "cells": [
  {
   "cell_type": "code",
   "execution_count": 139,
   "metadata": {},
   "outputs": [],
   "source": [
    "%matplotlib inline\n",
    "import numpy as np\n",
    "import numpy.random as ran\n",
    "import matplotlib.pyplot as plt\n",
    "\n",
    "DATA = np.genfromtxt('data.txt', delimiter=',')\n",
    "X = DATA[:, 0:5]\n",
    "Y = DATA[:, 5]\n",
    "\n",
    "SEED = 10\n",
    "ITERATIONS = 10\n",
    "ALPHA = 0.001\n",
    "THETA = np.array([1, 1, 1/2, 2, 1/5])\n",
    "R = np.array([[3, 1], [6, 5/2], [10, 3], [2, 1], [20, 5]])\n",
    "K = 1/(DATA.shape[0])"
   ]
  },
  {
   "cell_type": "code",
   "execution_count": 140,
   "metadata": {},
   "outputs": [],
   "source": [
    "def cost(theta: np.ndarray) -> float:\n",
    "    res = 0\n",
    "    for i in range(DATA.shape[0]):\n",
    "        res += (np.dot(X[i], theta) - Y[i]) ** 2\n",
    "    return res\n",
    "\n",
    "def influence(theta: np.ndarray, index: int) -> float:\n",
    "    inf = 0\n",
    "    for i, vector in enumerate(X):\n",
    "        inf += (np.dot(X[i], theta) - Y[i]) * X[i, index]\n",
    "    return inf\n",
    "\n",
    "def descend(theta: np.ndarray) -> list:\n",
    "    inf = np.zeros(THETA.size)\n",
    "    for i in range(THETA.size):\n",
    "        inf[i] = influence(theta, i)\n",
    "    inf = -K * ALPHA * inf\n",
    "    return np.add(theta, inf)"
   ]
  },
  {
   "cell_type": "code",
   "execution_count": 141,
   "metadata": {
    "scrolled": true
   },
   "outputs": [
    {
     "name": "stdout",
     "output_type": "stream",
     "text": [
      "inf [0.06554773 0.13223547 0.22765556 0.04732692 0.45012931]\n",
      "inf [0.0273922  0.05816153 0.09533155 0.02091013 0.17844343]\n",
      "inf [0.01198587 0.02822599 0.0418624  0.01023799 0.06879718]\n",
      "inf [0.00576347 0.01610946 0.02022778 0.00592206 0.0245663 ]\n",
      "inf [0.00324865 0.01118673 0.01144547 0.00417224 0.00674337]\n",
      "inf [ 0.00223061  0.00916836  0.00785229  0.00345841 -0.00041898]\n",
      "inf [ 0.00181684  0.00832272  0.0063546   0.0031629  -0.00327801]\n",
      "inf [ 0.00164703  0.00795072  0.00570348  0.00303632 -0.00440015]\n",
      "inf [ 0.00157573  0.00777016  0.00539472  0.00297802 -0.00482145]\n",
      "inf [ 0.0015442   0.00766708  0.00522477  0.00294734 -0.00496019]\n",
      "theta [0.12275232 0.28679822 0.42705261 0.10415232 0.71080081], cost 2912.3111521205497\n"
     ]
    }
   ],
   "source": [
    "theta = np.zeros(5)\n",
    "for i in range(ITERATIONS):\n",
    "    theta = descend(theta)\n",
    "#     print(f'cost {cost(theta)}')\n",
    "print(f'theta {theta}, cost {cost(theta)}')\n"
   ]
  }
 ],
 "metadata": {
  "kernelspec": {
   "display_name": "Python 3",
   "language": "python",
   "name": "python3"
  },
  "language_info": {
   "codemirror_mode": {
    "name": "ipython",
    "version": 3
   },
   "file_extension": ".py",
   "mimetype": "text/x-python",
   "name": "python",
   "nbconvert_exporter": "python",
   "pygments_lexer": "ipython3",
   "version": "3.6.4"
  }
 },
 "nbformat": 4,
 "nbformat_minor": 2
}
