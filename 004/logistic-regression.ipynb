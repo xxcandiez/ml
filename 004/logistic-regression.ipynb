{
 "cells": [
  {
   "cell_type": "code",
   "execution_count": 90,
   "metadata": {},
   "outputs": [],
   "source": [
    "%matplotlib inline\n",
    "import numpy as np"
   ]
  },
  {
   "cell_type": "code",
   "execution_count": 122,
   "metadata": {},
   "outputs": [],
   "source": [
    "DATA = np.genfromtxt('monks-1.csv', delimiter=',')\n",
    "\n",
    "def preprocess(data):\n",
    "    M = data[:, 0].size\n",
    "    N = data[0, :].size - 1\n",
    "    Y = data[:, 0].reshape(M, 1)\n",
    "    X = data[:, 1:-1].reshape(M, N - 1)\n",
    "    X = np.concatenate([X, np.ones(M).reshape(M, 1)], 1)\n",
    "    return X, Y, M, N\n",
    "\n",
    "X, Y, M, N = preprocess(DATA)"
   ]
  },
  {
   "cell_type": "code",
   "execution_count": 123,
   "metadata": {},
   "outputs": [],
   "source": [
    "sigmoid = np.vectorize( lambda x: 1 / (1 + np.exp(-x)) )\n",
    "\n",
    "def distances(theta):\n",
    "    return sigmoid(X @ theta) - Y\n",
    "\n",
    "def grad(theta):\n",
    "    return X.T @ distances(theta)"
   ]
  },
  {
   "cell_type": "code",
   "execution_count": 124,
   "metadata": {
    "scrolled": false
   },
   "outputs": [
    {
     "name": "stdout",
     "output_type": "stream",
     "text": [
      "[[431.98717829]\n",
      " [431.98717829]\n",
      " [323.98858095]\n",
      " [431.98717829]\n",
      " [647.98643523]\n",
      " [323.98858095]\n",
      " [215.99100135]]\n"
     ]
    }
   ],
   "source": [
    "theta = np.array([1, 1, 1, 1, 1, 1, 1]).reshape(N, 1)\n",
    "print(grad(theta))"
   ]
  }
 ],
 "metadata": {
  "kernelspec": {
   "display_name": "Python 3",
   "language": "python",
   "name": "python3"
  },
  "language_info": {
   "codemirror_mode": {
    "name": "ipython",
    "version": 3
   },
   "file_extension": ".py",
   "mimetype": "text/x-python",
   "name": "python",
   "nbconvert_exporter": "python",
   "pygments_lexer": "ipython3",
   "version": "3.6.4"
  }
 },
 "nbformat": 4,
 "nbformat_minor": 2
}
