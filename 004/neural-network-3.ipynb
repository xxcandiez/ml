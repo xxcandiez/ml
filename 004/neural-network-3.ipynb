{
 "cells": [
  {
   "cell_type": "code",
   "execution_count": 57,
   "metadata": {},
   "outputs": [],
   "source": [
    "%matplotlib inline\n",
    "import numpy as np"
   ]
  },
  {
   "cell_type": "code",
   "execution_count": 58,
   "metadata": {},
   "outputs": [],
   "source": [
    "def preprocess():\n",
    "    data = np.genfromtxt('monks-1.csv', delimiter=',')\n",
    "    # remove the uniqe identifiers for each row\n",
    "    data = data[:, :-1]\n",
    "    # get the size of the training set (M) and the dimension of the input (N)\n",
    "    M, N = data.shape\n",
    "    # -1 because one row is the output\n",
    "    N = N - 1\n",
    "    # output (Y), input (X)\n",
    "    Y = data[:, 0].reshape(M, 1, 1)\n",
    "    X = data[:, 1:].reshape(M, N, 1)\n",
    "    return X, Y, N, M\n",
    "\n",
    "X, Y, N, M = preprocess()\n",
    "# shapes of theta1, theta2, theta3\n",
    "shapes = ((6, 7), (1, 7))"
   ]
  },
  {
   "cell_type": "code",
   "execution_count": 123,
   "metadata": {},
   "outputs": [],
   "source": [
    "def sigmoid(x):\n",
    "    '''\n",
    "    float -> float\n",
    "    @description passes x through the sigmoid(logistic) function\n",
    "    @returns sigmoid of x\n",
    "    '''\n",
    "    return np.reciprocal(1 + np.exp(-x))\n",
    "sigmoid = np.vectorize(sigmoid, signature='()->()')\n",
    "\n",
    "def bias(x):\n",
    "    '''\n",
    "    np.ndarray -> np.ndarray\n",
    "    @description adds the bias parameter to an input\n",
    "    @param x: the input\n",
    "    @returns the input with the bias unit\n",
    "    '''\n",
    "    width = x.shape[1]\n",
    "    top = np.ones(width).reshape(1, width)\n",
    "    return np.concatenate((top, x), 0)\n",
    "bias = np.vectorize(bias, signature='(m,n)->(o,n)')\n",
    "\n",
    "def fpSimple(theta, x, verbose=False):\n",
    "    '''\n",
    "    list<np.ndarray>, np.ndarray, Bool -> np.ndarray or list<np.ndarray>\n",
    "    @description given parameters theta, and a traning example x, compute the predicted result.\n",
    "    the verbose option also returns the values from the hidden layers\n",
    "    @param theta: the parameters of the model (list of np.array)\n",
    "    @param x: the training example\n",
    "    @returns hypothesis of x, ouputs of all layers\n",
    "    '''\n",
    "    push = lambda theta, x: np.around(sigmoid(theta @ bias(x)))\n",
    "    res = list()\n",
    "    res.append(push(theta[0], x))\n",
    "    for i in range(1, len(theta) - 1):\n",
    "        res.append(push(theta[i], res[i-1]))\n",
    "    res.append(push(theta[-1], res[-1]))\n",
    "    return res[-1] if not verbose else res\n",
    "\n",
    "def fp(theta, verbose=False):\n",
    "    push = lambda theta, x: np.around(sigmoid(theta @ bias(x)))\n",
    "    res = list()\n",
    "    res.append(sigmoid(theta[0] @ bias(X)))\n",
    "    for i in range(1, len(theta) - 1):\n",
    "        res.append(sigmoid(theta[i] @ bias(res[i - 1])))\n",
    "    res.append(sigmoid(theta[-1] @ bias(res[-1])))\n",
    "    return res[-1] if not verbose else res\n",
    "\n",
    "def _part(x, y):\n",
    "    return y * -np.log(x) + (1-y) * -np.log(1-x)\n",
    "_part = np.vectorize(_part, signature='(m,n),(m,n)->()')\n",
    "\n",
    "def cost(theta):\n",
    "    '''\n",
    "    list<np.ndarray> -> float\n",
    "    '''\n",
    "    guess = fp(theta)\n",
    "    return np.sum(_part(guess, Y))\n",
    "\n",
    "def fastCost(guess):\n",
    "    '''\n",
    "    np.ndarray -> float\n",
    "    '''\n",
    "    return None\n",
    "\n",
    "def bp():\n",
    "    \n",
    "    return None"
   ]
  },
  {
   "cell_type": "code",
   "execution_count": 125,
   "metadata": {},
   "outputs": [
    {
     "name": "stdout",
     "output_type": "stream",
     "text": [
      "299.4395820018964\n"
     ]
    }
   ],
   "source": [
    "o, i = shapes[0]\n",
    "t1 = np.zeros(i * o).reshape(o, i)\n",
    "\n",
    "o, i = shapes[1]\n",
    "t2 = np.zeros(i * o).reshape(o, i)\n",
    "\n",
    "theta = [t1, t2]\n",
    "\n",
    "print(cost(theta))"
   ]
  }
 ],
 "metadata": {
  "kernelspec": {
   "display_name": "Python 3",
   "language": "python",
   "name": "python3"
  },
  "language_info": {
   "codemirror_mode": {
    "name": "ipython",
    "version": 3
   },
   "file_extension": ".py",
   "mimetype": "text/x-python",
   "name": "python",
   "nbconvert_exporter": "python",
   "pygments_lexer": "ipython3",
   "version": "3.6.4"
  }
 },
 "nbformat": 4,
 "nbformat_minor": 2
}
