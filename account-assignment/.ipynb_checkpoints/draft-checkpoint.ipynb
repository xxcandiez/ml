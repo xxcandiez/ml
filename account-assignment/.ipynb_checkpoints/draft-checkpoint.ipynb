{
 "cells": [
  {
   "cell_type": "markdown",
   "metadata": {},
   "source": [
    "# Interfaces as Assistants"
   ]
  },
  {
   "cell_type": "markdown",
   "metadata": {},
   "source": [
    "### Table of Contents\n",
    "[Motivation](#1)<br/>\n",
    "[Forms and Connections Other UI](#2)</br>"
   ]
  },
  {
   "cell_type": "markdown",
   "metadata": {},
   "source": [
    "### Motivation <span id='1'></span>\n",
    "\n",
    "I remember someone made an observation about websites that went along the lines of \"the only way a person would need to interact with a website is through forms\". I think that there is truth to that observation in quite a literal sense, and that the observation is worth exploring further becuase it might be possible to build a theory of web interfaces from it."
   ]
  },
  {
   "cell_type": "markdown",
   "metadata": {},
   "source": [
    "### Interface by Forms <span id='2'></span>\n",
    "\n",
    "Suppose you are in an email client and you want to affect the application by deleting three emails named e1, e2, e3. Normally what you could do is select the three emails by filling in the checkboxes on the correct lines, then clicking on the trash icon. Another way to make the same affect is to pull out a hypothetical delete email form, and fill in the lines with the names e1, e2, e3."
   ]
  },
  {
   "cell_type": "markdown",
   "metadata": {},
   "source": [
    "The current UI for assigning accounts in trial balance is a little bit elaborate compared to the rest of the application, and from a development perspective very elaborate UI could be a source of some truly barbaric, nondeterminism related bugs.\n",
    "\n",
    "Some time ago, I remember that a computer scientist who's name I can't remember said something along the lines of \"the only way someone needs to interact with a website is through forms.\"\n",
    "\n",
    "I actually forgot about this idea for a long time, but what reminded of it was actually when I was writing super convoluted scripts to try and automate the task of interacting with the elaborate UI, I started to wonder if there could be a simpler UI that could probably do everything that the current UI did.\n",
    "\n",
    "To motivate my proposal of turning the rather elaborate UI into a simple form, its probably good to explain further the idea of users only needing forms to interact with websites might be worthwhile."
   ]
  },
  {
   "cell_type": "markdown",
   "metadata": {},
   "source": [
    "### Forms and Connections Other UI <span id='forms'></span>\n",
    "\n",
    "Suppose you are in an email client and you want to delete 3 emails, what you would do is select the checkboxes and then click the trash icon. Alternatively you can pull up the \"delete emails\" form and fill it in like this.\n",
    "\n",
    "<img src=\"deleteEmail.png\" height=\"50%\" width=\"50%\"></img>\n",
    "\n",
    "As another illustration\n",
    "\n",
    "Since all UI can be emulated by simple forms, it begs the question, do we need all of this fancy UI?\n",
    "\n",
    "idea: UI should be used to help the user to fill in these forms more easily\n",
    "- explain deleting emails, you can think of deleting emails as filling in the delete email form\n",
    "- explain the move item form using command line\n",
    "- explain how windows and android file managers use ui to help the user to fill in the form\n"
   ]
  }
 ],
 "metadata": {
  "kernelspec": {
   "display_name": "Python 3",
   "language": "python",
   "name": "python3"
  },
  "language_info": {
   "codemirror_mode": {
    "name": "ipython",
    "version": 3
   },
   "file_extension": ".py",
   "mimetype": "text/x-python",
   "name": "python",
   "nbconvert_exporter": "python",
   "pygments_lexer": "ipython3",
   "version": "3.6.4"
  }
 },
 "nbformat": 4,
 "nbformat_minor": 2
}
