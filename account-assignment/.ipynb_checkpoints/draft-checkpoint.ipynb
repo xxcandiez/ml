{
 "cells": [
  {
   "cell_type": "markdown",
   "metadata": {},
   "source": [
    "# Account Assignment Interface"
   ]
  },
  {
   "cell_type": "markdown",
   "metadata": {},
   "source": [
    "### Table of Contents\n",
    "[Motivation](#motivation)<br/>\n",
    "[Forms and Connections Other UI](#forms)</br>"
   ]
  },
  {
   "cell_type": "markdown",
   "metadata": {},
   "source": [
    "### Motivation <div id='motivatoin'></div>\n",
    "\n",
    "The current UI for assigning accounts in trial balance is a little bit elaborate compared to the rest of the application, and from a development perspective very elaborate UI could be a source of really weird nondeterministic bugs. So following the idea that in theory every piece of UI can be emulated by a form element, I want to propose an alternate design that would be easier for the developers to implement, and also easier for qa to test."
   ]
  },
  {
   "cell_type": "markdown",
   "metadata": {},
   "source": [
    "### Forms and Connections Other UI <div id='forms'></div>\n",
    "\n",
    "I remember some time ago, I heard someone say that \"the only way someone would need to interact with a website is through a form\" paraphrasing since I can't even remember who said that.\n",
    "\n",
    "- I think that idea is actually quite true in many ways\n",
    "- explain deleting emails, you can think of deleting emails as filling in the delete email form\n",
    "- explain the move item form using command line\n",
    "- explain how windows and android file managers use ui to help the user to fill in the form\n"
   ]
  }
 ],
 "metadata": {
  "kernelspec": {
   "display_name": "Python 3",
   "language": "python",
   "name": "python3"
  },
  "language_info": {
   "codemirror_mode": {
    "name": "ipython",
    "version": 3
   },
   "file_extension": ".py",
   "mimetype": "text/x-python",
   "name": "python",
   "nbconvert_exporter": "python",
   "pygments_lexer": "ipython3",
   "version": "3.6.4"
  }
 },
 "nbformat": 4,
 "nbformat_minor": 2
}
