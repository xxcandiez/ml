{
 "cells": [
  {
   "cell_type": "markdown",
   "metadata": {},
   "source": [
    "# Account Assignment Interface"
   ]
  },
  {
   "cell_type": "markdown",
   "metadata": {},
   "source": [
    "### Table of Contents\n",
    "[Motivation](#motivation)<br/>\n",
    "[Forms and Connections Other UI](#forms)</br>"
   ]
  },
  {
   "cell_type": "markdown",
   "metadata": {},
   "source": [
    "### Motivation <div id='motivatoin'></div>\n",
    "\n",
    "The current UI for assigning accounts in trial balance is a little bit elaborate compared to the rest of the application, and from a development perspective very elaborate UI could be a source of some truly barbaric, nondeterminism related bugs.\n",
    "\n",
    "Some time ago, I remember that a computer scientist who's name I can't remember said something along the lines of \"the only way someone needs to interact with a website is through forms.\"\n",
    "\n",
    "I actually forgot about this idea for a long time, but what reminded of it was actually when I was writing super convoluted scripts to try and automate the task of interacting with the elaborate UI, I started to wonder if there could be a simpler UI that could probably do everything that the current UI did.\n",
    "\n",
    "To motivate my proposal of turning the rather elaborate UI into a simple form, its probably good to begin with "
   ]
  },
  {
   "cell_type": "markdown",
   "metadata": {},
   "source": [
    "### Forms and Connections Other UI <div id='forms'></div>\n",
    "\n",
    "I remember some time ago, I heard someone say that \"the only way someone would need to interact with a website is through a form\" paraphrasing since I can't even remember who said that.\n",
    "\n",
    "- I think that idea is actually quite true in many ways\n",
    "- explain deleting emails, you can think of deleting emails as filling in the delete email form\n",
    "- explain the move item form using command line\n",
    "- explain how windows and android file managers use ui to help the user to fill in the form\n"
   ]
  }
 ],
 "metadata": {
  "kernelspec": {
   "display_name": "Python 3",
   "language": "python",
   "name": "python3"
  },
  "language_info": {
   "codemirror_mode": {
    "name": "ipython",
    "version": 3
   },
   "file_extension": ".py",
   "mimetype": "text/x-python",
   "name": "python",
   "nbconvert_exporter": "python",
   "pygments_lexer": "ipython3",
   "version": "3.6.4"
  }
 },
 "nbformat": 4,
 "nbformat_minor": 2
}
