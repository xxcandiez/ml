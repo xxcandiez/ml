{
 "cells": [
  {
   "cell_type": "code",
   "execution_count": 93,
   "metadata": {},
   "outputs": [],
   "source": [
    "%matplotlib inline\n",
    "from jupyterthemes import jtplot\n",
    "jtplot.style()\n",
    "import numpy as np\n",
    "import matplotlib.pyplot as plt\n",
    "\n",
    "def preprocess():\n",
    "    raw = np.genfromtxt('monks-1.csv', delimiter=',')\n",
    "    DATA = raw[:, 0:7]\n",
    "    X = raw[:, 1:7]\n",
    "    Y = raw[:, 0]\n",
    "    return DATA, X, Y\n",
    "\n",
    "DATA, X, Y = preprocess()\n",
    "H = lambda x: (1 / (1 + np.exp(-x.dot(theta))))\n",
    "M = Y.size\n",
    "ALPHA = 0.001\n",
    "K = 1/float(M)\n",
    "ITERATIONS = 5"
   ]
  },
  {
   "cell_type": "code",
   "execution_count": 100,
   "metadata": {},
   "outputs": [],
   "source": [
    "def cost(theta: np.array) -> float:\n",
    "    '''\n",
    "    param: theta, parameter vector\n",
    "    returns: cost that theta incurs on your data\n",
    "    '''\n",
    "    sum = 0\n",
    "    for i in range(M):\n",
    "        x, y = X[i], Y[i] # transfer\n",
    "        sum += - (y * np.log(H(x))) - ((1 - y) * np.log(1 - H(x)))\n",
    "    return sum\n",
    "\n",
    "def accuracy(theta: np.array):\n",
    "    correct = 0;\n",
    "    threshold\n",
    "    for i in range(M):\n",
    "        x, y = X[i], Y[i]\n",
    "        correct += 1 if np.abs(H(x) - y) > threshold else 0\n",
    "    return correct/float(M)\n",
    "\n",
    "def distances(theta: np.ndarray) -> np.ndarray:\n",
    "    '''\n",
    "    param: theta, parameter vector\n",
    "    returns: an array of differences between the model and the actual values\n",
    "    '''\n",
    "    res = np.zeros(M)\n",
    "    for i in range(M):\n",
    "        x, y = X[i], Y[i] # transfer\n",
    "        res[i] = H(x) - y\n",
    "    return res\n",
    "\n",
    "def descend(theta):\n",
    "    normalize = lambda v: -ALPHA * K * v\n",
    "    inf = distances(theta).dot(X)\n",
    "    inf = normalize(inf)\n",
    "    return theta + inf"
   ]
  },
  {
   "cell_type": "code",
   "execution_count": 112,
   "metadata": {},
   "outputs": [
    {
     "name": "stdout",
     "output_type": "stream",
     "text": [
      "[1. 1. 1. 1. 1. 1.]\n",
      "2592.024459016342\n",
      "[2.14 2.14 2.14 2.14 2.14 2.14]\n",
      "5546.806674723916\n"
     ]
    }
   ],
   "source": [
    "theta = np.ones(X.shape[1])\n",
    "for i in range(ITERATIONS):\n",
    "    print(1)\n"
   ]
  }
 ],
 "metadata": {
  "kernelspec": {
   "display_name": "Python 3",
   "language": "python",
   "name": "python3"
  },
  "language_info": {
   "codemirror_mode": {
    "name": "ipython",
    "version": 3
   },
   "file_extension": ".py",
   "mimetype": "text/x-python",
   "name": "python",
   "nbconvert_exporter": "python",
   "pygments_lexer": "ipython3",
   "version": "3.6.4"
  }
 },
 "nbformat": 4,
 "nbformat_minor": 2
}
